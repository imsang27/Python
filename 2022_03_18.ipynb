{
  "nbformat": 4,
  "nbformat_minor": 0,
  "metadata": {
    "colab": {
      "name": "2022/ 03/ 18.ipynb",
      "provenance": [],
      "authorship_tag": "ABX9TyMhqthnJLbRksl7os5vq4LJ",
      "include_colab_link": true
    },
    "kernelspec": {
      "name": "python3",
      "display_name": "Python 3"
    },
    "language_info": {
      "name": "python"
    }
  },
  "cells": [
    {
      "cell_type": "markdown",
      "metadata": {
        "id": "view-in-github",
        "colab_type": "text"
      },
      "source": [
        "<a href=\"https://colab.research.google.com/github/imsang27/Python/blob/main/2022_03_18.ipynb\" target=\"_parent\"><img src=\"https://colab.research.google.com/assets/colab-badge.svg\" alt=\"Open In Colab\"/></a>"
      ]
    },
    {
      "cell_type": "code",
      "execution_count": 4,
      "metadata": {
        "colab": {
          "base_uri": "https://localhost:8080/"
        },
        "id": "VjPYEFxHWVcc",
        "outputId": "cf6343b4-fafe-467f-b420-ba54dc8de128"
      },
      "outputs": [
        {
          "output_type": "stream",
          "name": "stdout",
          "text": [
            "Hello, 'World'\n",
            "Helo. \"World\"\n"
          ]
        }
      ],
      "source": [
        "a = \"Hello, 'World'\"\n",
        "b = 'Helo. \"World\"'\n",
        "\n",
        "print(a)\n",
        "print(b)"
      ]
    },
    {
      "cell_type": "code",
      "source": [
        "a = 1  #정수형\n",
        "b = 2  #정수형\n",
        "print(a, b)"
      ],
      "metadata": {
        "colab": {
          "base_uri": "https://localhost:8080/"
        },
        "id": "KRICKMKUYQKy",
        "outputId": "b63a4648-1590-4e14-8915-1de36b55be33"
      },
      "execution_count": 5,
      "outputs": [
        {
          "output_type": "stream",
          "name": "stdout",
          "text": [
            "1 2\n"
          ]
        }
      ]
    },
    {
      "cell_type": "code",
      "source": [
        "a = 1.5  #실수형\n",
        "b = 3.5  #실수형\n",
        "print(a, b)"
      ],
      "metadata": {
        "colab": {
          "base_uri": "https://localhost:8080/"
        },
        "id": "BxPPiCNxYdSK",
        "outputId": "bc952926-a15d-496c-a870-ee935bbbeaf0"
      },
      "execution_count": 6,
      "outputs": [
        {
          "output_type": "stream",
          "name": "stdout",
          "text": [
            "1.5 3.5\n"
          ]
        }
      ]
    },
    {
      "cell_type": "code",
      "source": [
        "a = \"ABC\"     #문자형\n",
        "b = \"101010\"  #문자형\n",
        "print(a, b)"
      ],
      "metadata": {
        "colab": {
          "base_uri": "https://localhost:8080/"
        },
        "id": "pjML0NBUYpZ2",
        "outputId": "b53dcdd4-08b1-4e81-88ff-dc7302ac5898"
      },
      "execution_count": 7,
      "outputs": [
        {
          "output_type": "stream",
          "name": "stdout",
          "text": [
            "ABC 101010\n"
          ]
        }
      ]
    },
    {
      "cell_type": "code",
      "source": [
        "a = True   #불린형\n",
        "b = False  #불린형\n",
        "print(a, b)"
      ],
      "metadata": {
        "colab": {
          "base_uri": "https://localhost:8080/"
        },
        "id": "Oo1WDKaFY2GB",
        "outputId": "314d5694-50bb-48cb-94a9-aefdd6f60144"
      },
      "execution_count": 11,
      "outputs": [
        {
          "output_type": "stream",
          "name": "stdout",
          "text": [
            "True False\n"
          ]
        }
      ]
    },
    {
      "cell_type": "code",
      "source": [
        "25 + 3\n",
        "30 - 12\n",
        "50 * 3\n",
        "30 / 5"
      ],
      "metadata": {
        "colab": {
          "base_uri": "https://localhost:8080/"
        },
        "id": "vtMHhuwEaIUK",
        "outputId": "3ea40536-cd22-4563-8cb4-0c98ffcdad86"
      },
      "execution_count": 15,
      "outputs": [
        {
          "output_type": "execute_result",
          "data": {
            "text/plain": [
              "6.0"
            ]
          },
          "metadata": {},
          "execution_count": 15
        }
      ]
    },
    {
      "cell_type": "code",
      "source": [
        "print(7 // 2) #몫\n",
        "print( 7 %  2) #나머지"
      ],
      "metadata": {
        "colab": {
          "base_uri": "https://localhost:8080/"
        },
        "id": "RVYbOtWqb94b",
        "outputId": "4211f54a-cad4-4b29-fe0a-85ed23f18ccf"
      },
      "execution_count": 27,
      "outputs": [
        {
          "output_type": "stream",
          "name": "stdout",
          "text": [
            "3\n",
            "1\n"
          ]
        }
      ]
    },
    {
      "cell_type": "code",
      "source": [
        "a = 10\n",
        "print(a)"
      ],
      "metadata": {
        "colab": {
          "base_uri": "https://localhost:8080/"
        },
        "id": "SntwcNapdUZT",
        "outputId": "ed6eab00-cad0-4e4a-bdea-01204fb3ed9e"
      },
      "execution_count": 33,
      "outputs": [
        {
          "output_type": "stream",
          "name": "stdout",
          "text": [
            "10\n"
          ]
        }
      ]
    },
    {
      "cell_type": "code",
      "source": [
        "a = int(10.3)\n",
        "b = int(10.7)\n",
        "print(a, b)"
      ],
      "metadata": {
        "colab": {
          "base_uri": "https://localhost:8080/"
        },
        "id": "kEUAIz_KjzmC",
        "outputId": "0e0e93d5-3b57-474b-948c-fe20ccd8d29e"
      },
      "execution_count": 38,
      "outputs": [
        {
          "output_type": "stream",
          "name": "stdout",
          "text": [
            "10 10\n"
          ]
        }
      ]
    },
    {
      "cell_type": "code",
      "source": [
        "print(1 == True)\n",
        "print(1 == False)\n",
        "print(0 == True)\n",
        "print(0 == False)"
      ],
      "metadata": {
        "colab": {
          "base_uri": "https://localhost:8080/"
        },
        "id": "TnkI_-kSkwlI",
        "outputId": "1923aa7f-48f3-4543-dd82-9a15d0ddf575"
      },
      "execution_count": 44,
      "outputs": [
        {
          "output_type": "stream",
          "name": "stdout",
          "text": [
            "True\n",
            "False\n",
            "False\n",
            "True\n"
          ]
        }
      ]
    },
    {
      "cell_type": "code",
      "source": [
        "a = \"76.3\"\n",
        "a = float(a)\n",
        "b = a\n",
        "\n"
      ],
      "metadata": {
        "id": "-uXssw-Mmlgk"
      },
      "execution_count": 47,
      "outputs": []
    },
    {
      "cell_type": "code",
      "source": [
        "a = \"76.3\"\n",
        "a = float(a)\n",
        "a = str(a)\n",
        "b = str(b)\n",
        "print(a + b)"
      ],
      "metadata": {
        "colab": {
          "base_uri": "https://localhost:8080/"
        },
        "id": "0buovVnVnSz4",
        "outputId": "5a6cdc30-1070-494c-8a8f-c9f30588bf49"
      },
      "execution_count": 51,
      "outputs": [
        {
          "output_type": "stream",
          "name": "stdout",
          "text": [
            "76.376.3\n"
          ]
        }
      ]
    },
    {
      "cell_type": "code",
      "source": [
        "a = 20.5\n",
        "a = str(int(a))*2\n",
        "b = '년, \"COVID\"확산의 해로 기록되갰죠'\n",
        "print(a+b)"
      ],
      "metadata": {
        "colab": {
          "base_uri": "https://localhost:8080/"
        },
        "id": "H-Daopl0oyjJ",
        "outputId": "69f201a7-d548-4232-f48f-9b5b5ea86fe0"
      },
      "execution_count": 82,
      "outputs": [
        {
          "output_type": "stream",
          "name": "stdout",
          "text": [
            "2020년, \"COVID\"확산의 해로 기록되갰죠\n"
          ]
        }
      ]
    },
    {
      "cell_type": "code",
      "source": [
        "print(\"Enter your Name : \")\n",
        "name = input()\n",
        "print(name + \", Welecome to Sunmoon University\")"
      ],
      "metadata": {
        "colab": {
          "base_uri": "https://localhost:8080/"
        },
        "id": "4lkfk4JAvxtW",
        "outputId": "bcce4aac-4075-497d-e98d-36031842cd63"
      },
      "execution_count": 87,
      "outputs": [
        {
          "output_type": "stream",
          "name": "stdout",
          "text": [
            "Enter your Name : \n",
            "임상혁\n",
            "임상혁, Welecome to Sunmoon University\n"
          ]
        }
      ]
    },
    {
      "cell_type": "code",
      "source": [
        "name = input(\"Enter your Name : \")\n",
        "print(name + \", Welecome to Sunmoon University\")"
      ],
      "metadata": {
        "colab": {
          "base_uri": "https://localhost:8080/"
        },
        "id": "1K-Z0M-jxCNK",
        "outputId": "b2f13d99-b9fa-404a-b662-299ad31912d1"
      },
      "execution_count": 88,
      "outputs": [
        {
          "output_type": "stream",
          "name": "stdout",
          "text": [
            "Enter your Name : 임상혁\n",
            "임상혁, Welecome to Sunmoon University\n"
          ]
        }
      ]
    },
    {
      "cell_type": "code",
      "source": [
        "temp = float(input(\"온도를 입력하세요. (기준 ℃)\"))\n",
        "print(temp)"
      ],
      "metadata": {
        "colab": {
          "base_uri": "https://localhost:8080/"
        },
        "id": "JfifT9Wpxdye",
        "outputId": "4d3d0182-21b3-4f84-f9c3-4ae81379d41f"
      },
      "execution_count": 94,
      "outputs": [
        {
          "output_type": "stream",
          "name": "stdout",
          "text": [
            "온도를 입력하세요. (기준 ℃)36.5\n",
            "36.5\n"
          ]
        }
      ]
    }
  ]
}