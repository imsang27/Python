{
  "nbformat": 4,
  "nbformat_minor": 0,
  "metadata": {
    "colab": {
      "name": "2022/ 03/ 25.ipynb",
      "provenance": [],
      "collapsed_sections": [],
      "authorship_tag": "ABX9TyNMREPA7LUbQXlNkhjpOrio",
      "include_colab_link": true
    },
    "kernelspec": {
      "name": "python3",
      "display_name": "Python 3"
    },
    "language_info": {
      "name": "python"
    }
  },
  "cells": [
    {
      "cell_type": "markdown",
      "metadata": {
        "id": "view-in-github",
        "colab_type": "text"
      },
      "source": [
        "<a href=\"https://colab.research.google.com/github/imsang27/Python/blob/main/2022_03_25.ipynb\" target=\"_parent\"><img src=\"https://colab.research.google.com/assets/colab-badge.svg\" alt=\"Open In Colab\"/></a>"
      ]
    },
    {
      "cell_type": "code",
      "source": [
        "colors = ['Red', 'Green', 'Blue']\n",
        "tuple = {'A' : 'a', 'B' : 'b', 'C' : 'c'}\n",
        "print(colors)\n",
        "print(colors[0])\n",
        "print(len(colors))\n",
        "print(tuple)"
      ],
      "metadata": {
        "colab": {
          "base_uri": "https://localhost:8080/"
        },
        "id": "ggq8kAeEW98L",
        "outputId": "eac99897-341b-45cf-f621-8277c80adcfb"
      },
      "execution_count": null,
      "outputs": [
        {
          "output_type": "stream",
          "name": "stdout",
          "text": [
            "['Red', 'Green', 'Blue']\n",
            "Red\n",
            "3\n",
            "{'A': 'a', 'B': 'b', 'C': 'c'}\n"
          ]
        }
      ]
    },
    {
      "cell_type": "code",
      "source": [
        "cities = ['서울', '부산', '대구', '인천', '대전', '광주', '울산', '수원']\n"
      ],
      "metadata": {
        "id": "ppzKFGyTegNl"
      },
      "execution_count": null,
      "outputs": []
    },
    {
      "cell_type": "code",
      "source": [
        "week = ['월', '화', '수', '목', '금', '토', '일']\n",
        "주중 = slice(0,5)\n",
        "주말 = slice(5,7)\n",
        "기초1 = week[2], week[4]\n",
        "기초2 = week[1], week[3]\n",
        "\n",
        "print(week[주중]) #주중\n",
        "print(week[주말]) #주말\n",
        "print(기초1) #기초1\n",
        "print(기초2) #기초2"
      ],
      "metadata": {
        "colab": {
          "base_uri": "https://localhost:8080/"
        },
        "id": "DJVgoHfpkp-2",
        "outputId": "acde9bf9-e8d5-4523-c1b6-3b41bfa4a343"
      },
      "execution_count": null,
      "outputs": [
        {
          "output_type": "stream",
          "name": "stdout",
          "text": [
            "['월', '화', '수', '목', '금']\n",
            "['토', '일']\n",
            "('수', '금')\n",
            "('화', '목')\n"
          ]
        }
      ]
    },
    {
      "cell_type": "code",
      "source": [
        "변수명[시작인덱스;마지막인덱스;증가값]\n",
        "cities = "
      ],
      "metadata": {
        "id": "gCOOrmrMpKhd"
      },
      "execution_count": null,
      "outputs": []
    },
    {
      "cell_type": "code",
      "source": [
        "plant = ['수성', '금성', '지구', '화성', '목성', '토성', '천왕성', '해왕성', '명왕성']\n"
      ],
      "metadata": {
        "id": "QeSPUHcTr751"
      },
      "execution_count": null,
      "outputs": []
    },
    {
      "cell_type": "code",
      "source": [
        "rainbow_part1 = ['Red', 'Orenge', 'Yellow', 'Green', 'Blue', 'Indigo', 'Purple']\n",
        "rainbow_part1*2"
      ],
      "metadata": {
        "colab": {
          "base_uri": "https://localhost:8080/"
        },
        "id": "Ze3Fd5qzxwG9",
        "outputId": "b8cf41f9-02b2-4089-cfa7-9f28effe1cb6"
      },
      "execution_count": null,
      "outputs": [
        {
          "output_type": "execute_result",
          "data": {
            "text/plain": [
              "['Red',\n",
              " 'Orenge',\n",
              " 'Yellow',\n",
              " 'Green',\n",
              " 'Blue',\n",
              " 'Indigo',\n",
              " 'Purple',\n",
              " 'Red',\n",
              " 'Orenge',\n",
              " 'Yellow',\n",
              " 'Green',\n",
              " 'Blue',\n",
              " 'Indigo',\n",
              " 'Purple']"
            ]
          },
          "metadata": {},
          "execution_count": 73
        }
      ]
    },
    {
      "cell_type": "code",
      "source": [
        "planet = ['금성', '지구', '회성']\n",
        "planet.append('목성')\n",
        "print(planet)"
      ],
      "metadata": {
        "colab": {
          "base_uri": "https://localhost:8080/"
        },
        "id": "Hcs67T-fzA7W",
        "outputId": "d54660bf-762c-45dd-fb85-68519329179c"
      },
      "execution_count": null,
      "outputs": [
        {
          "output_type": "stream",
          "name": "stdout",
          "text": [
            "['금성', '지구', '회성', '목성']\n"
          ]
        }
      ]
    },
    {
      "cell_type": "code",
      "source": [
        "planet = ['금성', '지구', '회성']\n",
        "planet.append('선문대')\n",
        "planet.remove('선문대')\n",
        "print(planet)"
      ],
      "metadata": {
        "id": "4euu4o_Q4nka"
      },
      "execution_count": null,
      "outputs": []
    },
    {
      "cell_type": "code",
      "source": [
        ""
      ],
      "metadata": {
        "id": "iF0GahLH5V78"
      },
      "execution_count": null,
      "outputs": []
    }
  ]
}