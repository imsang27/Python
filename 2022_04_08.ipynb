{
  "nbformat": 4,
  "nbformat_minor": 0,
  "metadata": {
    "colab": {
      "name": "2022/ 04/ 08.ipynb",
      "provenance": [],
      "collapsed_sections": [],
      "authorship_tag": "ABX9TyPALkFLgW3AMRFf0mO+3ZtA",
      "include_colab_link": true
    },
    "kernelspec": {
      "name": "python3",
      "display_name": "Python 3"
    },
    "language_info": {
      "name": "python"
    }
  },
  "cells": [
    {
      "cell_type": "markdown",
      "metadata": {
        "id": "view-in-github",
        "colab_type": "text"
      },
      "source": [
        "<a href=\"https://colab.research.google.com/github/imsang27/Python/blob/main/2022_04_08.ipynb\" target=\"_parent\"><img src=\"https://colab.research.google.com/assets/colab-badge.svg\" alt=\"Open In Colab\"/></a>"
      ]
    },
    {
      "cell_type": "code",
      "execution_count": null,
      "metadata": {
        "id": "qOSZQh-LbZRX",
        "colab": {
          "base_uri": "https://localhost:8080/"
        },
        "outputId": "c4961437-3648-4bfc-bffc-31abd1c0a0ed"
      },
      "outputs": [
        {
          "output_type": "stream",
          "name": "stdout",
          "text": [
            "출생년도를 입력하세요 : 20\n",
            "학생이 아닙니다.\n"
          ]
        }
      ],
      "source": [
        "age = 2022 - int(input(\"출생년도를 입력하세요 : \")) + 1\n",
        "\n",
        "if age >= 27 or age <= 8:\n",
        "  print(\"학생이 아닙니다.\")\n",
        "elif age < 14 and age >= 8:\n",
        "  print(\"초등학생입니다.\")\n",
        "elif age < 17 and age >= 14:\n",
        "  print(\"중학생입니다.\")\n",
        "elif age < 20 and age >= 17:\n",
        "  print(\"고등학생입니다.\")\n",
        "elif age <= 26 and age >= 20:\n",
        "  print(\"대학생입니다.\")"
      ]
    },
    {
      "cell_type": "code",
      "source": [
        "for looper in [1, 2, 3, 4, 5]:\n",
        "  print(looper)"
      ],
      "metadata": {
        "colab": {
          "base_uri": "https://localhost:8080/"
        },
        "id": "tkucPBryv8d4",
        "outputId": "5ca74d9f-ece0-4c7d-a667-8fda58f34867"
      },
      "execution_count": null,
      "outputs": [
        {
          "output_type": "stream",
          "name": "stdout",
          "text": [
            "1\n",
            "2\n",
            "3\n",
            "4\n",
            "5\n"
          ]
        }
      ]
    },
    {
      "cell_type": "code",
      "source": [
        "for i in [1, 2, 3, 4, 5]:\n",
        "  print(\"Hello.\")\n",
        "  print(i)"
      ],
      "metadata": {
        "colab": {
          "base_uri": "https://localhost:8080/"
        },
        "id": "G8hmZmzJujzD",
        "outputId": "7b5f075c-27f0-4c88-9106-7200238d8894"
      },
      "execution_count": null,
      "outputs": [
        {
          "output_type": "stream",
          "name": "stdout",
          "text": [
            "Hello.\n",
            "1\n",
            "Hello.\n",
            "2\n",
            "Hello.\n",
            "3\n",
            "Hello.\n",
            "4\n",
            "Hello.\n",
            "5\n"
          ]
        }
      ]
    },
    {
      "cell_type": "code",
      "source": [
        "for j in ['a', 'b', 'c', 'd', 'e']:\n",
        "  print(j)"
      ],
      "metadata": {
        "colab": {
          "base_uri": "https://localhost:8080/"
        },
        "id": "XTm2odYVvQwC",
        "outputId": "957c6acc-2d59-4861-ae44-13bd0a4f5813"
      },
      "execution_count": null,
      "outputs": [
        {
          "output_type": "stream",
          "name": "stdout",
          "text": [
            "a\n",
            "b\n",
            "c\n",
            "d\n",
            "e\n"
          ]
        }
      ]
    },
    {
      "cell_type": "code",
      "source": [
        "for i in ['콜라', '환타', '사이다']:\n",
        "  print(i)"
      ],
      "metadata": {
        "colab": {
          "base_uri": "https://localhost:8080/"
        },
        "id": "QRWeb4k4xA_m",
        "outputId": "2674d7cd-1d68-43f7-c642-c64dbf571581"
      },
      "execution_count": null,
      "outputs": [
        {
          "output_type": "stream",
          "name": "stdout",
          "text": [
            "콜라\n",
            "환타\n",
            "사이다\n"
          ]
        }
      ]
    },
    {
      "cell_type": "code",
      "source": [
        "for i in range(10):\n",
        "  print(i)"
      ],
      "metadata": {
        "colab": {
          "base_uri": "https://localhost:8080/"
        },
        "id": "_IfbvjI7x8ck",
        "outputId": "7d7064cf-30ec-49f5-dd92-3541a97c1bbb"
      },
      "execution_count": null,
      "outputs": [
        {
          "output_type": "stream",
          "name": "stdout",
          "text": [
            "0\n",
            "1\n",
            "2\n",
            "3\n",
            "4\n",
            "5\n",
            "6\n",
            "7\n",
            "8\n",
            "9\n"
          ]
        }
      ]
    },
    {
      "cell_type": "code",
      "source": [
        "for i in range(1,5):\n",
        "  print(i)"
      ],
      "metadata": {
        "colab": {
          "base_uri": "https://localhost:8080/"
        },
        "id": "miQyDckrzMHK",
        "outputId": "43bdbce9-79f7-472e-d72c-6c0f62c66fd2"
      },
      "execution_count": null,
      "outputs": [
        {
          "output_type": "stream",
          "name": "stdout",
          "text": [
            "1\n",
            "2\n",
            "3\n",
            "4\n"
          ]
        }
      ]
    },
    {
      "cell_type": "code",
      "source": [
        "for i in range(1,8,3):\n",
        "  print(i)"
      ],
      "metadata": {
        "colab": {
          "base_uri": "https://localhost:8080/"
        },
        "id": "Zosw_X33zMo5",
        "outputId": "968b7e0c-ed9a-4c2f-dd3f-481fd21ba3bd"
      },
      "execution_count": null,
      "outputs": [
        {
          "output_type": "stream",
          "name": "stdout",
          "text": [
            "1\n",
            "4\n",
            "7\n"
          ]
        }
      ]
    },
    {
      "cell_type": "code",
      "source": [
        "for i in range(10,1,-1):\n",
        "  print(i)"
      ],
      "metadata": {
        "colab": {
          "base_uri": "https://localhost:8080/"
        },
        "id": "eKdfKQlEz5Hn",
        "outputId": "06b095e5-da7a-4932-f48e-ff0369094c61"
      },
      "execution_count": null,
      "outputs": [
        {
          "output_type": "stream",
          "name": "stdout",
          "text": [
            "10\n",
            "9\n",
            "8\n",
            "7\n",
            "6\n",
            "5\n",
            "4\n",
            "3\n",
            "2\n"
          ]
        }
      ]
    },
    {
      "cell_type": "code",
      "source": [
        "math_score = [50, 35, 20, 38, 40]\n",
        "print(\"총합 : \", sum(math_score))\n",
        "\n",
        "total = 0\n",
        "for i in math_score:\n",
        "  total += i\n",
        "  average = total / len(math_score)\n",
        "  \n",
        "print(\"평균 : \", average)"
      ],
      "metadata": {
        "colab": {
          "base_uri": "https://localhost:8080/"
        },
        "id": "XYycHbBg0nbR",
        "outputId": "3a5bc018-a128-43ed-a490-9a9a85897490"
      },
      "execution_count": null,
      "outputs": [
        {
          "output_type": "stream",
          "name": "stdout",
          "text": [
            "총합 :  183\n",
            "평균 :  36.6\n"
          ]
        }
      ]
    },
    {
      "cell_type": "code",
      "source": [
        "math_score = [50, 35, 20, 38, 40]\n",
        "print(\"총합 : \", sum(math_score))\n",
        "\n",
        "total = 0\n",
        "for i in range(len(math_score)):\n",
        "  total += math_score[i]\n",
        "  average = total / len(math_score)\n",
        "  \n",
        "print(\"평균 : \", average)"
      ],
      "metadata": {
        "colab": {
          "base_uri": "https://localhost:8080/"
        },
        "id": "g5OG-TPJ2-Eo",
        "outputId": "c1a057b5-c1d8-42c9-e176-683380dfb780"
      },
      "execution_count": 3,
      "outputs": [
        {
          "output_type": "stream",
          "name": "stdout",
          "text": [
            "총합 :  183\n",
            "평균 :  36.6\n"
          ]
        }
      ]
    }
  ]
}