{
  "nbformat": 4,
  "nbformat_minor": 0,
  "metadata": {
    "colab": {
      "name": "2022/ 04/ 22.ipynb",
      "provenance": [],
      "collapsed_sections": [],
      "authorship_tag": "ABX9TyN3dQaqNzWoYkMPGTbiePoF",
      "include_colab_link": true
    },
    "kernelspec": {
      "name": "python3",
      "display_name": "Python 3"
    },
    "language_info": {
      "name": "python"
    }
  },
  "cells": [
    {
      "cell_type": "markdown",
      "metadata": {
        "id": "view-in-github",
        "colab_type": "text"
      },
      "source": [
        "<a href=\"https://colab.research.google.com/github/imsang27/Python/blob/main/2022_04_22.ipynb\" target=\"_parent\"><img src=\"https://colab.research.google.com/assets/colab-badge.svg\" alt=\"Open In Colab\"/></a>"
      ]
    },
    {
      "cell_type": "code",
      "execution_count": null,
      "metadata": {
        "colab": {
          "base_uri": "https://localhost:8080/"
        },
        "id": "-6dfbKIJinUc",
        "outputId": "2048437e-7eb7-4b2d-8127-07d2d50d47e6"
      },
      "outputs": [
        {
          "output_type": "stream",
          "name": "stdout",
          "text": [
            "몇 단을 출력할까요?\n",
            "5\n",
            "\n",
            "[5단]\n",
            "5 X 1 = 5\n",
            "5 X 2 = 10\n",
            "5 X 3 = 15\n",
            "5 X 4 = 20\n",
            "5 X 5 = 25\n",
            "5 X 6 = 30\n",
            "5 X 7 = 35\n",
            "5 X 8 = 40\n",
            "5 X 9 = 45\n"
          ]
        }
      ],
      "source": [
        "###----- n단을 입력받아 n단을 출력 -----###\n",
        "\n",
        "num = int(input(\"몇 단을 출력할까요?\\n\"))\n",
        "print(\"\\n[\" + str(num) + \"단]\")\n",
        "for i in range(1,10):             # i는 n단을 1부터 9까지 곱해줌.\n",
        "  print(num, \"X\", i, \"=\", num*i)"
      ]
    },
    {
      "cell_type": "code",
      "source": [
        "###----- n단을 입력받아 n단을 출력 -----###\n",
        "stop = 'Q', 'q'\n",
        "while True:\n",
        "\n",
        "  num = int(input(\"몇 단을 출력할까요?\\n\"))\n",
        "  \n",
        "  print(\"\\n[\" + str(num) + \"단]\")\n",
        "  \n",
        "  for i in range(1,10):             # i는 n단을 1부터 9까지 곱해줌.\n",
        "    print(num, \"X\", i, \"=\", num*i)\n",
        "  \n",
        "  print(\"구구단을 중단하려면 'Q'나 'q'를 입력하십시오.\\n\")\n",
        "\n",
        "if num in stop:\n",
        "  print(\"구구단을 종료합니다.\")\n",
        "  break"
      ],
      "metadata": {
        "colab": {
          "base_uri": "https://localhost:8080/",
          "height": 568
        },
        "id": "zMIvXG8VuRT1",
        "outputId": "5828fb0d-7798-47c2-9786-674beda5ffcb"
      },
      "execution_count": 80,
      "outputs": [
        {
          "name": "stdout",
          "output_type": "stream",
          "text": [
            "몇 단을 출력할까요?\n",
            "3\n",
            "\n",
            "[3단]\n",
            "3 X 1 = 3\n",
            "3 X 2 = 6\n",
            "3 X 3 = 9\n",
            "3 X 4 = 12\n",
            "3 X 5 = 15\n",
            "3 X 6 = 18\n",
            "3 X 7 = 21\n",
            "3 X 8 = 24\n",
            "3 X 9 = 27\n",
            "구구단을 중단하려면 'Q'나 'q'를 입력하십시오.\n",
            "\n",
            "몇 단을 출력할까요?\n",
            "q\n"
          ]
        },
        {
          "output_type": "error",
          "ename": "ValueError",
          "evalue": "ignored",
          "traceback": [
            "\u001b[0;31m---------------------------------------------------------------------------\u001b[0m",
            "\u001b[0;31mValueError\u001b[0m                                Traceback (most recent call last)",
            "\u001b[0;32m<ipython-input-80-fa6be09ba047>\u001b[0m in \u001b[0;36m<module>\u001b[0;34m()\u001b[0m\n\u001b[1;32m      3\u001b[0m \u001b[0;32mwhile\u001b[0m \u001b[0;32mTrue\u001b[0m\u001b[0;34m:\u001b[0m\u001b[0;34m\u001b[0m\u001b[0;34m\u001b[0m\u001b[0m\n\u001b[1;32m      4\u001b[0m   \u001b[0mprint\u001b[0m\u001b[0;34m(\u001b[0m\u001b[0;34m\"몇 단을 출력할까요?\"\u001b[0m\u001b[0;34m)\u001b[0m\u001b[0;34m\u001b[0m\u001b[0;34m\u001b[0m\u001b[0m\n\u001b[0;32m----> 5\u001b[0;31m   \u001b[0mnum\u001b[0m \u001b[0;34m=\u001b[0m \u001b[0mint\u001b[0m\u001b[0;34m(\u001b[0m\u001b[0minput\u001b[0m\u001b[0;34m(\u001b[0m\u001b[0;34m)\u001b[0m\u001b[0;34m)\u001b[0m\u001b[0;34m\u001b[0m\u001b[0;34m\u001b[0m\u001b[0m\n\u001b[0m\u001b[1;32m      6\u001b[0m   \u001b[0mprint\u001b[0m\u001b[0;34m(\u001b[0m\u001b[0;34m\"\\n[\"\u001b[0m \u001b[0;34m+\u001b[0m \u001b[0mstr\u001b[0m\u001b[0;34m(\u001b[0m\u001b[0mnum\u001b[0m\u001b[0;34m)\u001b[0m \u001b[0;34m+\u001b[0m \u001b[0;34m\"단]\"\u001b[0m\u001b[0;34m)\u001b[0m\u001b[0;34m\u001b[0m\u001b[0;34m\u001b[0m\u001b[0m\n\u001b[1;32m      7\u001b[0m   \u001b[0;32mfor\u001b[0m \u001b[0mi\u001b[0m \u001b[0;32min\u001b[0m \u001b[0mrange\u001b[0m\u001b[0;34m(\u001b[0m\u001b[0;36m1\u001b[0m\u001b[0;34m,\u001b[0m\u001b[0;36m10\u001b[0m\u001b[0;34m)\u001b[0m\u001b[0;34m:\u001b[0m             \u001b[0;31m# i는 n단을 1부터 9까지 곱해줌.\u001b[0m\u001b[0;34m\u001b[0m\u001b[0;34m\u001b[0m\u001b[0m\n",
            "\u001b[0;31mValueError\u001b[0m: invalid literal for int() with base 10: 'q'"
          ]
        }
      ]
    },
    {
      "cell_type": "code",
      "source": [
        "import numpy\n",
        "import random\n",
        "\n",
        "stop = ['Q', 'q']\n",
        "val = []\n",
        "while True:\n",
        "#정답\n",
        "  while True:\n",
        "  #구구단\n",
        "\n",
        "  num = input(\"몇 단을 출력할까요?\\n\") #./[^ㄱ-ㅎㅏ-ㅣ가-힣]/\n",
        "\n",
        "    #if /[^ㄱ-ㅎㅏ-ㅣ가-힣]/:\n",
        "    #  print(\"숫자만 입력이 가능합니다.\")\n",
        "  \n",
        "  print(\"\\n[\" + str(num) + \"단]\")\n",
        "  \n",
        "  for i in range(1,10):             # i는 num단을 1부터 9까지 곱해줌.\n",
        "    print(num, \"X\", i, \"=\", num*i)\n",
        "  \n",
        "  if num in stop:\n",
        "    break\n",
        "\n",
        "  break"
      ],
      "metadata": {
        "colab": {
          "base_uri": "https://localhost:8080/",
          "height": 139
        },
        "id": "-k9fQ5lByaKI",
        "outputId": "6837ff64-327b-4e2e-fd65-878a53302f0f"
      },
      "execution_count": 81,
      "outputs": [
        {
          "output_type": "error",
          "ename": "IndentationError",
          "evalue": "ignored",
          "traceback": [
            "\u001b[0;36m  File \u001b[0;32m\"<ipython-input-81-ecd2fc1caf2f>\"\u001b[0;36m, line \u001b[0;32m11\u001b[0m\n\u001b[0;31m    num = input(\"몇 단을 출력할까요?\\n\") #./[^ㄱ-ㅎㅏ-ㅣ가-힣]/\u001b[0m\n\u001b[0m      ^\u001b[0m\n\u001b[0;31mIndentationError\u001b[0m\u001b[0;31m:\u001b[0m expected an indented block\n"
          ]
        }
      ]
    },
    {
      "cell_type": "code",
      "source": [
        "while True:\n",
        "\n",
        "  if user_input in ['Q', 'q']:\n",
        "    print(\"프로그램을 종료합니다.\")\n",
        "    break\n",
        "\n",
        "  if user_input.isdigit():\n",
        "\n",
        "  else:\n",
        "\n",
        "    \n"
      ],
      "metadata": {
        "id": "vTZqCsryHAUg"
      },
      "execution_count": null,
      "outputs": []
    }
  ]
}