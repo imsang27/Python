{
  "nbformat": 4,
  "nbformat_minor": 0,
  "metadata": {
    "colab": {
      "name": "2022/ 05/ 06.ipynb",
      "provenance": [],
      "collapsed_sections": [],
      "authorship_tag": "ABX9TyP9PBrmUWqVurx8ZNdfN9vz",
      "include_colab_link": true
    },
    "kernelspec": {
      "name": "python3",
      "display_name": "Python 3"
    },
    "language_info": {
      "name": "python"
    }
  },
  "cells": [
    {
      "cell_type": "markdown",
      "metadata": {
        "id": "view-in-github",
        "colab_type": "text"
      },
      "source": [
        "<a href=\"https://colab.research.google.com/github/imsang27/Python/blob/main/2022_05_06.ipynb\" target=\"_parent\"><img src=\"https://colab.research.google.com/assets/colab-badge.svg\" alt=\"Open In Colab\"/></a>"
      ]
    },
    {
      "cell_type": "code",
      "execution_count": 49,
      "metadata": {
        "colab": {
          "base_uri": "https://localhost:8080/"
        },
        "id": "svAM9Cp57Sbk",
        "outputId": "cbb71ff0-3e83-496b-b1ed-a4535f1a1138"
      },
      "outputs": [
        {
          "output_type": "stream",
          "name": "stdout",
          "text": [
            "0\n",
            "0\n",
            "0\n",
            "0\n",
            "0\n",
            "1\n",
            "2\n",
            "3\n",
            "0\n",
            "2\n",
            "4\n",
            "6\n"
          ]
        }
      ],
      "source": [
        "a = [1, 2, 3]\n",
        "\n",
        "for a in range(len(a)):\n",
        "  for i in range(2**2):\n",
        "    print(a*i)"
      ]
    },
    {
      "cell_type": "code",
      "source": [
        "a = [[1, 2], [3, 4, 5, 6], [7, 8, 9, 10]]\n",
        "\n",
        "sum = 0\n",
        "for i in range(len(a)):\n",
        "  for j in range(len(a[i])):\n",
        "    sum += a[i][j]\n",
        "print(sum)"
      ],
      "metadata": {
        "colab": {
          "base_uri": "https://localhost:8080/"
        },
        "id": "FPcq96jQ-UHS",
        "outputId": "88276151-6ff6-46ae-a0d1-794a865375ac"
      },
      "execution_count": 86,
      "outputs": [
        {
          "output_type": "stream",
          "name": "stdout",
          "text": [
            "55\n"
          ]
        }
      ]
    },
    {
      "cell_type": "code",
      "source": [
        "a = [[1, 2, 3], [4, 5, 6, 7], [ 8, 9, 10, 11, 12]]\n",
        "for i in range(len(a)):\n",
        "  for j in range(len(a[i])):\n",
        "    # for k in range(len(a[j])):\n",
        "    a[i][j] *=10**(i+1) #[k]\n",
        "print(a)"
      ],
      "metadata": {
        "colab": {
          "base_uri": "https://localhost:8080/"
        },
        "id": "snrAS2EvA207",
        "outputId": "bf0e368c-f37a-4684-f774-ad2695a11d5c"
      },
      "execution_count": 95,
      "outputs": [
        {
          "output_type": "stream",
          "name": "stdout",
          "text": [
            "[[10, 20, 30], [400, 500, 600, 700], [8000, 9000, 10000, 11000, 12000]]\n"
          ]
        }
      ]
    },
    {
      "cell_type": "code",
      "source": [
        "#`````  김대한  김민국  김선문  김한국  감무궁\n",
        "# 수학    55      30      85      70      90\n",
        "# 영어    65      65      86      79     100\n",
        "# 국어    80      90     100      71      62\n",
        "\n",
        "name = ['김대한', '김민국', '김선문', '김한국', '김무궁']\n",
        "test_score = [[55, 65, 80], [30, 65, 90], [85, 86, 100], [70, 79, 71], [90, 100, 62]]\n",
        "\n",
        "total = 0\n",
        "aver = 0\n",
        "\n",
        "for i in range(len(name)):\n",
        "  for j in range(len(test_score)):\n",
        "    total += test_score[i][j]\n",
        "print(f'{name} --> [총점]: {total}, [평균]: {aver}')"
      ],
      "metadata": {
        "colab": {
          "base_uri": "https://localhost:8080/",
          "height": 139
        },
        "id": "bgUGraK7HFwJ",
        "outputId": "ffbe1c62-53f1-4749-b5a5-e527471c5da8"
      },
      "execution_count": 96,
      "outputs": [
        {
          "output_type": "error",
          "ename": "SyntaxError",
          "evalue": "ignored",
          "traceback": [
            "\u001b[0;36m  File \u001b[0;32m\"<ipython-input-96-da6fe2015ddc>\"\u001b[0;36m, line \u001b[0;32m13\u001b[0m\n\u001b[0;31m    for j in range(len(test_score))\u001b[0m\n\u001b[0m                                   ^\u001b[0m\n\u001b[0;31mSyntaxError\u001b[0m\u001b[0;31m:\u001b[0m invalid syntax\n"
          ]
        }
      ]
    }
  ]
}