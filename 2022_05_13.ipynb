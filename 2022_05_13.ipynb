{
  "nbformat": 4,
  "nbformat_minor": 0,
  "metadata": {
    "colab": {
      "name": "2022/ 05/ 13.ipynb",
      "provenance": [],
      "authorship_tag": "ABX9TyOnwbLeJMUw9LucrRyBMvSh",
      "include_colab_link": true
    },
    "kernelspec": {
      "name": "python3",
      "display_name": "Python 3"
    },
    "language_info": {
      "name": "python"
    }
  },
  "cells": [
    {
      "cell_type": "markdown",
      "metadata": {
        "id": "view-in-github",
        "colab_type": "text"
      },
      "source": [
        "<a href=\"https://colab.research.google.com/github/imsang27/Python/blob/main/2022_05_13.ipynb\" target=\"_parent\"><img src=\"https://colab.research.google.com/assets/colab-badge.svg\" alt=\"Open In Colab\"/></a>"
      ]
    },
    {
      "cell_type": "code",
      "source": [
        "#       김대한  김민국  김선문  김한국  감무궁\n",
        "# 수학    55      30      85      70      90\n",
        "# 영어    65      65      86      79     100\n",
        "# 국어    80      90     100      71      62\n",
        "\n",
        "name = ['김대한', '김민국', '김선문', '김한국', '김무궁']\n",
        "math = [55, 30, 85, 70, 90]\n",
        "eng  = [74, 65, 86, 79, 100]\n",
        "kor  = [80, 90, 100, 71, 62]\n",
        "mid_term = [math, eng, kor]\n",
        "std_scores = [0] * len(name)\n",
        "# total = 0\n",
        "# aver = 0\n",
        "\n",
        "for i in range(len(mid_term)):\n",
        "  for j in range(len(mid_term[i])):\n",
        "    std_scores[j] += mid_term[i][j]\n",
        "\n",
        "for i in range(len(mid_term)):\n",
        "  print(f'{name[i]} --> [총점] : {std_scores[i]}, 평균 : {(round(std_scores[i] / len(mid_term), 2))}')\n",
        "\n",
        "# print(f'{name} --> [총점]: {total}, [평균]: {aver}')"
      ],
      "metadata": {
        "colab": {
          "base_uri": "https://localhost:8080/"
        },
        "id": "bgUGraK7HFwJ",
        "outputId": "f733f841-4704-4bdd-d934-2fe85e659428"
      },
      "execution_count": 1,
      "outputs": [
        {
          "output_type": "stream",
          "name": "stdout",
          "text": [
            "김대한 --> [총점] : 209, 평균 : 69.67\n",
            "김민국 --> [총점] : 185, 평균 : 61.67\n",
            "김선문 --> [총점] : 271, 평균 : 90.33\n"
          ]
        }
      ]
    },
    {
      "cell_type": "code",
      "source": [
        "def func_name(p, a, r, a_, m, e, t, e_, r_): # paramiter(파라미터) = 매개변수\n",
        "  \n",
        "  return;"
      ],
      "metadata": {
        "colab": {
          "base_uri": "https://localhost:8080/"
        },
        "id": "NABcW3pa9_0M",
        "outputId": "99df074d-fb23-42e1-9004-143caacd4f5f"
      },
      "execution_count": 18,
      "outputs": [
        {
          "output_type": "stream",
          "name": "stdout",
          "text": [
            "[[['aaaaa', 'aaaaa', 'aaaaa', 'aaaaa', 'aaaaa'], 'ㅠㅠㅠㅠㅠ', 'ㅠㅠㅠㅠㅠ', 'ㅠㅠㅠㅠㅠ', 'ㅠㅠㅠㅠㅠ', 'ㅠㅠㅠㅠㅠ']]\n"
          ]
        }
      ]
    }
  ]
}