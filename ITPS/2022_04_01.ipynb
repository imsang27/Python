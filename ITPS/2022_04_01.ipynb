{
  "nbformat": 4,
  "nbformat_minor": 0,
  "metadata": {
    "colab": {
      "name": "2022/ 04/ 01.ipynb",
      "provenance": [],
      "authorship_tag": "ABX9TyNmPMkoFdfefDKecPTs/qTj",
      "include_colab_link": true
    },
    "kernelspec": {
      "name": "python3",
      "display_name": "Python 3"
    },
    "language_info": {
      "name": "python"
    }
  },
  "cells": [
    {
      "cell_type": "markdown",
      "metadata": {
        "id": "view-in-github",
        "colab_type": "text"
      },
      "source": [
        "<a href=\"https://colab.research.google.com/github/imsang27/Python/blob/main/2022_04_01.ipynb\" target=\"_parent\"><img src=\"https://colab.research.google.com/assets/colab-badge.svg\" alt=\"Open In Colab\"/></a>"
      ]
    },
    {
      "cell_type": "code",
      "execution_count": null,
      "metadata": {
        "colab": {
          "base_uri": "https://localhost:8080/"
        },
        "id": "6txWfJv8iQsT",
        "outputId": "848a5986-8895-43a5-96ee-a0e6366b2a53"
      },
      "outputs": [
        {
          "output_type": "stream",
          "name": "stdout",
          "text": [
            "[[1, 2, 3, 4, 5], ['월', '화', '수', '목', '금'], ['r', 'g', 'b']]\n",
            "수\n",
            "g\n",
            "['월', '화', '수', '목', '금']\n",
            "['r', 'g', 'b']\n"
          ]
        }
      ],
      "source": [
        "dat1 = [1, 2, 3, 4, 5]\n",
        "dat2 = ['월', '화', '수', '목', '금']\n",
        "dat3 = ['r', 'g', 'b']\n",
        "M = [dat1, dat2, dat3]\n",
        "print(M)\n",
        "print(M[1][2])\n",
        "print(M[2][1])\n",
        "print(M[1])\n",
        "print(M[2])"
      ]
    },
    {
      "cell_type": "code",
      "source": [
        "myage = int(input(\"Tell me your age? ; \"))\n",
        "if myage < 30:\n",
        "  print(\"Welcome to the Club\")\n",
        "else:\n",
        "  print(\"oh! No, Your nott accepted.\")"
      ],
      "metadata": {
        "id": "CFpXKAiQm2V6"
      },
      "execution_count": null,
      "outputs": []
    },
    {
      "cell_type": "code",
      "source": [
        "score = int(input(\"Enter your score : \"))\n",
        "\n",
        "if score >= 90 : grade = 'A'\n",
        "elif score >= 80 : grade = 'B'\n",
        "elif score >= 70 : grade = 'C'\n",
        "elif score >= 60 : grade = 'D'\n",
        "else : grade = 'F'"
      ],
      "metadata": {
        "id": "a_aytHGl8NQW"
      },
      "execution_count": null,
      "outputs": []
    }
  ]
}
