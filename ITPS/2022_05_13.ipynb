{
  "nbformat": 4,
  "nbformat_minor": 0,
  "metadata": {
    "colab": {
      "name": "2022/ 05/ 13.ipynb",
      "provenance": [],
      "collapsed_sections": [],
      "authorship_tag": "ABX9TyPxBro5nX+2Ytjf4zU/a50F",
      "include_colab_link": true
    },
    "kernelspec": {
      "name": "python3",
      "display_name": "Python 3"
    },
    "language_info": {
      "name": "python"
    }
  },
  "cells": [
    {
      "cell_type": "markdown",
      "metadata": {
        "id": "view-in-github",
        "colab_type": "text"
      },
      "source": [
        "<a href=\"https://colab.research.google.com/github/imsang27/Python/blob/main/2022_05_13.ipynb\" target=\"_parent\"><img src=\"https://colab.research.google.com/assets/colab-badge.svg\" alt=\"Open In Colab\"/></a>"
      ]
    },
    {
      "cell_type": "code",
      "execution_count": null,
      "metadata": {
        "colab": {
          "base_uri": "https://localhost:8080/"
        },
        "id": "svAM9Cp57Sbk",
        "outputId": "cbb71ff0-3e83-496b-b1ed-a4535f1a1138"
      },
      "outputs": [
        {
          "output_type": "stream",
          "name": "stdout",
          "text": [
            "0\n",
            "0\n",
            "0\n",
            "0\n",
            "0\n",
            "1\n",
            "2\n",
            "3\n",
            "0\n",
            "2\n",
            "4\n",
            "6\n"
          ]
        }
      ],
      "source": [
        "a = [1, 2, 3]\n",
        "\n",
        "for a in range(len(a)):\n",
        "  for i in range(2**2):\n",
        "    print(a*i)"
      ]
    },
    {
      "cell_type": "code",
      "source": [
        "a = [[1, 2], [3, 4, 5, 6], [7, 8, 9, 10]]\n",
        "\n",
        "sum = 0\n",
        "for i in range(len(a)):\n",
        "  for j in range(len(a[i])):\n",
        "    sum += a[i][j]\n",
        "print(sum)"
      ],
      "metadata": {
        "colab": {
          "base_uri": "https://localhost:8080/"
        },
        "id": "FPcq96jQ-UHS",
        "outputId": "88276151-6ff6-46ae-a0d1-794a865375ac"
      },
      "execution_count": null,
      "outputs": [
        {
          "output_type": "stream",
          "name": "stdout",
          "text": [
            "55\n"
          ]
        }
      ]
    },
    {
      "cell_type": "code",
      "source": [
        "a = [[1, 2, 3], [4, 5, 6, 7], [ 8, 9, 10, 11, 12]]\n",
        "for i in range(len(a)):\n",
        "  for j in range(len(a[i])):\n",
        "    # for k in range(len(a[j])):\n",
        "    a[i][j] *=10**(i+1) #[k]\n",
        "print(a)"
      ],
      "metadata": {
        "colab": {
          "base_uri": "https://localhost:8080/"
        },
        "id": "snrAS2EvA207",
        "outputId": "bf0e368c-f37a-4684-f774-ad2695a11d5c"
      },
      "execution_count": null,
      "outputs": [
        {
          "output_type": "stream",
          "name": "stdout",
          "text": [
            "[[10, 20, 30], [400, 500, 600, 700], [8000, 9000, 10000, 11000, 12000]]\n"
          ]
        }
      ]
    },
    {
      "cell_type": "code",
      "source": [
        "#`````  김대한  김민국  김선문  김한국  감무궁\n",
        "# 수학    55      30      85      70      90\n",
        "# 영어    65      65      86      79     100\n",
        "# 국어    80      90     100      71      62\n",
        "\n",
        "name = ['김대한', '김민국', '김선문', '김한국', '김무궁']\n",
        "math = [55, 30, 85, 70, 90]\n",
        "eng  = [74, 65, 86, 79, 100]\n",
        "kor  = [80, 90, 100, 71, 62]\n",
        "mid_term = [math, eng, kor]\n",
        "std_scores = [0] * len(name)\n",
        "# total = 0\n",
        "# aver = 0\n",
        "\n",
        "for i in range(len(mid_term)):\n",
        "  for j in range(len(mid_term[i])):\n",
        "    std_scores[j] += mid_term[i][j]\n",
        "\n",
        "for i in range(len(mid_term)):\n",
        "  print(f'{name[i]} --> [총점] : {std_scores[i]}, 평균 : {(round(std_scores[i] / len(mid_term), 2))}')\n",
        "\n",
        "# print(f'{name} --> [총점]: {total}, [평균]: {aver}')"
      ],
      "metadata": {
        "colab": {
          "base_uri": "https://localhost:8080/"
        },
        "id": "bgUGraK7HFwJ",
        "outputId": "9a35b707-7b29-49a2-91c0-ed3e20f11792"
      },
      "execution_count": 12,
      "outputs": [
        {
          "output_type": "stream",
          "name": "stdout",
          "text": [
            "김대한 --> [총점] : 209, 평균 : 69.67\n",
            "김민국 --> [총점] : 185, 평균 : 61.67\n",
            "김선문 --> [총점] : 271, 평균 : 90.33\n",
            "['김대한', '김민국', '김선문', '김한국', '김무궁'] --> [총점]: 0, [평균]: 0\n"
          ]
        }
      ]
    }
  ]
}
