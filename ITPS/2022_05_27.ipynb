{
  "nbformat": 4,
  "nbformat_minor": 0,
  "metadata": {
    "colab": {
      "name": "2022/ 05/ 27.ipynb",
      "provenance": [],
      "collapsed_sections": [],
      "authorship_tag": "ABX9TyNFhzMBje0tZdr9HCmdMleF",
      "include_colab_link": true
    },
    "kernelspec": {
      "name": "python3",
      "display_name": "Python 3"
    },
    "language_info": {
      "name": "python"
    }
  },
  "cells": [
    {
      "cell_type": "markdown",
      "metadata": {
        "id": "view-in-github",
        "colab_type": "text"
      },
      "source": [
        "<a href=\"https://colab.research.google.com/github/imsang27/Python/blob/main/ITPS/2022_05_27.ipynb\" target=\"_parent\"><img src=\"https://colab.research.google.com/assets/colab-badge.svg\" alt=\"Open In Colab\"/></a>"
      ]
    },
    {
      "cell_type": "code",
      "execution_count": null,
      "metadata": {
        "colab": {
          "base_uri": "https://localhost:8080/"
        },
        "id": "v06jE1Gz0Dwf",
        "outputId": "36f3a446-3996-42f8-dad9-fa75ee2ee77c"
      },
      "outputs": [
        {
          "output_type": "stream",
          "name": "stdout",
          "text": [
            "rowsum :  [0, 5, 10]\n",
            "colsum :  [0, 5, 10, 0, 0]\n"
          ]
        }
      ],
      "source": [
        "row0 = [0, 0, 0, 0, 0]\n",
        "row1 = [1, 1, 1, 1, 1]\n",
        "row2 = [2, 2, 2, 2, 2]\n",
        "mat = [row0, row1, row2]\n",
        "\n",
        "rowsum = [0]*len(mat)\n",
        "colsum = [0]*len(mat[0])\n",
        "\n",
        "for i in range(len(mat)):       # i : [0, 2]\n",
        "  for j in range(len(mat[i])):  # j : [0, 4]\n",
        "    rowsum[i] += mat[i][j]\n",
        "    colsum[i] += mat[i][j]\n",
        "\n",
        "print('rowsum : ', rowsum)\n",
        "print('colsum : ', colsum)"
      ]
    },
    {
      "cell_type": "code",
      "source": [
        "def add(total):\n",
        "  total += 0\n",
        "\n",
        "total = 0\n",
        "\n",
        "for i in range(1,11):\n",
        "  add(i)\n",
        "print(total)"
      ],
      "metadata": {
        "colab": {
          "base_uri": "https://localhost:8080/"
        },
        "id": "ZmsGUqiH2XIa",
        "outputId": "070e30e4-d6f7-4fbc-ebb7-421e2e9d5ef4"
      },
      "execution_count": null,
      "outputs": [
        {
          "output_type": "stream",
          "name": "stdout",
          "text": [
            "0\n"
          ]
        }
      ]
    },
    {
      "cell_type": "code",
      "source": [
        "def print_names(name1, name2):\n",
        "  print('[name1]: ', name1, '[name2]: ', name2)\n",
        "\n",
        "real_name = input(\"Enter your name: \")\n",
        "nick_name = input(\"Enter your nick name: \")\n",
        "\n",
        "print_names(real_name, nick_name)\n",
        "print_names(name2 = nick_name, name1 = real_name)"
      ],
      "metadata": {
        "colab": {
          "base_uri": "https://localhost:8080/"
        },
        "id": "_Ja0t3Yk-IRl",
        "outputId": "11d231ea-a79c-4702-8abb-21b4fb86a75e"
      },
      "execution_count": null,
      "outputs": [
        {
          "output_type": "stream",
          "name": "stdout",
          "text": [
            "Enter your name: Im sanghyeok\n",
            "Enter your nick name: ZiTTA\n",
            "[name1]:  Im sanghyeok [name2]:  ZiTTA\n",
            "[name1]:  Im sanghyeok [name2]:  ZiTTA\n"
          ]
        }
      ]
    },
    {
      "cell_type": "code",
      "source": [
        "print(\"I\\'d like to drinf coffee\\\\juice\\\\tea.\")\n",
        "\n",
        "'''\n",
        "'''"
      ],
      "metadata": {
        "colab": {
          "base_uri": "https://localhost:8080/",
          "height": 36
        },
        "id": "EgloYySu_n-R",
        "outputId": "96e71b18-09cd-4ea8-8266-17a82c3a8518"
      },
      "execution_count": null,
      "outputs": [
        {
          "output_type": "execute_result",
          "data": {
            "text/plain": [
              "'print(\"I\\'d like to drinf coffee\\\\juice\\\\tea.\")\\n'"
            ],
            "application/vnd.google.colaboratory.intrinsic+json": {
              "type": "string"
            }
          },
          "metadata": {},
          "execution_count": 21
        }
      ]
    }
  ]
}